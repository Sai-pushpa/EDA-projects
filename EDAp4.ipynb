{
 "cells": [
  {
   "cell_type": "code",
   "execution_count": 1,
   "id": "10e44054-fc2d-4c28-8f03-94737b389c0d",
   "metadata": {},
   "outputs": [],
   "source": [
    "import numpy as np\n",
    "import pandas as pd\n",
    "import matplotlib.pyplot as plt\n",
    "import seaborn as sns"
   ]
  },
  {
   "cell_type": "code",
   "execution_count": 2,
   "id": "fb48c28e-981a-437a-a07c-b1fd7ec13ddb",
   "metadata": {},
   "outputs": [],
   "source": [
    "dataset = pd.read_csv(\"IMDb_Dataset.csv\")"
   ]
  },
  {
   "cell_type": "code",
   "execution_count": 3,
   "id": "51f5dd12-d76b-4ece-89ab-237e6bb69889",
   "metadata": {},
   "outputs": [
    {
     "data": {
      "text/html": [
       "<div>\n",
       "<style scoped>\n",
       "    .dataframe tbody tr th:only-of-type {\n",
       "        vertical-align: middle;\n",
       "    }\n",
       "\n",
       "    .dataframe tbody tr th {\n",
       "        vertical-align: top;\n",
       "    }\n",
       "\n",
       "    .dataframe thead th {\n",
       "        text-align: right;\n",
       "    }\n",
       "</style>\n",
       "<table border=\"1\" class=\"dataframe\">\n",
       "  <thead>\n",
       "    <tr style=\"text-align: right;\">\n",
       "      <th></th>\n",
       "      <th>Title</th>\n",
       "      <th>IMDb Rating</th>\n",
       "      <th>Year</th>\n",
       "      <th>Certificates</th>\n",
       "      <th>Genre</th>\n",
       "      <th>Director</th>\n",
       "      <th>Star Cast</th>\n",
       "      <th>MetaScore</th>\n",
       "      <th>Duration (minutes)</th>\n",
       "    </tr>\n",
       "  </thead>\n",
       "  <tbody>\n",
       "    <tr>\n",
       "      <th>0</th>\n",
       "      <td>Gladiator</td>\n",
       "      <td>8.5</td>\n",
       "      <td>2000</td>\n",
       "      <td>R</td>\n",
       "      <td>Action</td>\n",
       "      <td>Ridley Scott</td>\n",
       "      <td>David FranzoniJohn LoganWilliam Nicholson</td>\n",
       "      <td>67.0</td>\n",
       "      <td>155.0</td>\n",
       "    </tr>\n",
       "    <tr>\n",
       "      <th>1</th>\n",
       "      <td>Mission: Impossible - Dead Reckoning Part One</td>\n",
       "      <td>7.7</td>\n",
       "      <td>2023</td>\n",
       "      <td>PG-13</td>\n",
       "      <td>Action</td>\n",
       "      <td>Christopher McQuarrie</td>\n",
       "      <td>Tom CruiseHayley AtwellVing Rhames</td>\n",
       "      <td>81.0</td>\n",
       "      <td>163.0</td>\n",
       "    </tr>\n",
       "    <tr>\n",
       "      <th>2</th>\n",
       "      <td>Rebel Moon - Part Two: The Scargiver</td>\n",
       "      <td>5.2</td>\n",
       "      <td>2024</td>\n",
       "      <td>PG-13</td>\n",
       "      <td>Action</td>\n",
       "      <td>Zack Snyder</td>\n",
       "      <td>Zack SnyderKurt JohnstadShay Hatten</td>\n",
       "      <td>35.0</td>\n",
       "      <td>122.0</td>\n",
       "    </tr>\n",
       "    <tr>\n",
       "      <th>3</th>\n",
       "      <td>Inglourious Basterds</td>\n",
       "      <td>8.4</td>\n",
       "      <td>2009</td>\n",
       "      <td>R</td>\n",
       "      <td>Adventure</td>\n",
       "      <td>Quentin Tarantino</td>\n",
       "      <td>Brad PittDiane KrugerEli Roth</td>\n",
       "      <td>69.0</td>\n",
       "      <td>153.0</td>\n",
       "    </tr>\n",
       "    <tr>\n",
       "      <th>4</th>\n",
       "      <td>Borderlands</td>\n",
       "      <td>7.1</td>\n",
       "      <td>2024</td>\n",
       "      <td>R</td>\n",
       "      <td>Action</td>\n",
       "      <td>Eli Roth</td>\n",
       "      <td>Eli RothJoe Crombie</td>\n",
       "      <td>66.9</td>\n",
       "      <td>116.3</td>\n",
       "    </tr>\n",
       "  </tbody>\n",
       "</table>\n",
       "</div>"
      ],
      "text/plain": [
       "                                           Title  IMDb Rating  Year  \\\n",
       "0                                      Gladiator          8.5  2000   \n",
       "1  Mission: Impossible - Dead Reckoning Part One          7.7  2023   \n",
       "2           Rebel Moon - Part Two: The Scargiver          5.2  2024   \n",
       "3                           Inglourious Basterds          8.4  2009   \n",
       "4                                    Borderlands          7.1  2024   \n",
       "\n",
       "  Certificates      Genre               Director  \\\n",
       "0            R     Action           Ridley Scott   \n",
       "1        PG-13     Action  Christopher McQuarrie   \n",
       "2        PG-13     Action            Zack Snyder   \n",
       "3            R  Adventure      Quentin Tarantino   \n",
       "4            R     Action               Eli Roth   \n",
       "\n",
       "                                   Star Cast  MetaScore  Duration (minutes)  \n",
       "0  David FranzoniJohn LoganWilliam Nicholson       67.0               155.0  \n",
       "1         Tom CruiseHayley AtwellVing Rhames       81.0               163.0  \n",
       "2        Zack SnyderKurt JohnstadShay Hatten       35.0               122.0  \n",
       "3              Brad PittDiane KrugerEli Roth       69.0               153.0  \n",
       "4                        Eli RothJoe Crombie       66.9               116.3  "
      ]
     },
     "execution_count": 3,
     "metadata": {},
     "output_type": "execute_result"
    }
   ],
   "source": [
    "#top 5 rows in data \n",
    "dataset.head()"
   ]
  },
  {
   "cell_type": "code",
   "execution_count": 4,
   "id": "714d18b1-dd63-4a77-b3d9-47bb312d5963",
   "metadata": {},
   "outputs": [
    {
     "data": {
      "text/html": [
       "<div>\n",
       "<style scoped>\n",
       "    .dataframe tbody tr th:only-of-type {\n",
       "        vertical-align: middle;\n",
       "    }\n",
       "\n",
       "    .dataframe tbody tr th {\n",
       "        vertical-align: top;\n",
       "    }\n",
       "\n",
       "    .dataframe thead th {\n",
       "        text-align: right;\n",
       "    }\n",
       "</style>\n",
       "<table border=\"1\" class=\"dataframe\">\n",
       "  <thead>\n",
       "    <tr style=\"text-align: right;\">\n",
       "      <th></th>\n",
       "      <th>Title</th>\n",
       "      <th>IMDb Rating</th>\n",
       "      <th>Year</th>\n",
       "      <th>Certificates</th>\n",
       "      <th>Genre</th>\n",
       "      <th>Director</th>\n",
       "      <th>Star Cast</th>\n",
       "      <th>MetaScore</th>\n",
       "      <th>Duration (minutes)</th>\n",
       "    </tr>\n",
       "  </thead>\n",
       "  <tbody>\n",
       "    <tr>\n",
       "      <th>395</th>\n",
       "      <td>Mother of the Bride</td>\n",
       "      <td>4.8</td>\n",
       "      <td>2024</td>\n",
       "      <td>TV-PG</td>\n",
       "      <td>Comedy</td>\n",
       "      <td>Mark Waters</td>\n",
       "      <td>Brooke ShieldsMiranda CosgroveBenjamin Bratt</td>\n",
       "      <td>39.0</td>\n",
       "      <td>88.0</td>\n",
       "    </tr>\n",
       "    <tr>\n",
       "      <th>396</th>\n",
       "      <td>Beetlejuice Beetlejuice</td>\n",
       "      <td>7.1</td>\n",
       "      <td>2024</td>\n",
       "      <td>R</td>\n",
       "      <td>Comedy</td>\n",
       "      <td>Tim Burton</td>\n",
       "      <td>Alfred GoughMiles MillarSeth Grahame-Smith</td>\n",
       "      <td>66.9</td>\n",
       "      <td>116.3</td>\n",
       "    </tr>\n",
       "    <tr>\n",
       "      <th>397</th>\n",
       "      <td>The Idea of You</td>\n",
       "      <td>6.4</td>\n",
       "      <td>2024</td>\n",
       "      <td>R</td>\n",
       "      <td>Comedy</td>\n",
       "      <td>Michael Showalter</td>\n",
       "      <td>Anne HathawayNicholas GalitzineElla Rubin</td>\n",
       "      <td>67.0</td>\n",
       "      <td>115.0</td>\n",
       "    </tr>\n",
       "    <tr>\n",
       "      <th>398</th>\n",
       "      <td>IF</td>\n",
       "      <td>6.7</td>\n",
       "      <td>2024</td>\n",
       "      <td>PG</td>\n",
       "      <td>Animation</td>\n",
       "      <td>John Krasinski</td>\n",
       "      <td>Cailey FlemingRyan ReynoldsJohn Krasinski</td>\n",
       "      <td>46.0</td>\n",
       "      <td>104.0</td>\n",
       "    </tr>\n",
       "    <tr>\n",
       "      <th>399</th>\n",
       "      <td>The Fall Guy</td>\n",
       "      <td>7.1</td>\n",
       "      <td>2024</td>\n",
       "      <td>PG-13</td>\n",
       "      <td>Action</td>\n",
       "      <td>David Leitch</td>\n",
       "      <td>Ryan GoslingEmily BluntAaron Taylor-Johnson</td>\n",
       "      <td>73.0</td>\n",
       "      <td>126.0</td>\n",
       "    </tr>\n",
       "  </tbody>\n",
       "</table>\n",
       "</div>"
      ],
      "text/plain": [
       "                       Title  IMDb Rating  Year Certificates      Genre  \\\n",
       "395      Mother of the Bride          4.8  2024        TV-PG     Comedy   \n",
       "396  Beetlejuice Beetlejuice          7.1  2024            R     Comedy   \n",
       "397          The Idea of You          6.4  2024            R     Comedy   \n",
       "398                       IF          6.7  2024           PG  Animation   \n",
       "399             The Fall Guy          7.1  2024        PG-13     Action   \n",
       "\n",
       "              Director                                     Star Cast  \\\n",
       "395        Mark Waters  Brooke ShieldsMiranda CosgroveBenjamin Bratt   \n",
       "396         Tim Burton    Alfred GoughMiles MillarSeth Grahame-Smith   \n",
       "397  Michael Showalter     Anne HathawayNicholas GalitzineElla Rubin   \n",
       "398     John Krasinski     Cailey FlemingRyan ReynoldsJohn Krasinski   \n",
       "399       David Leitch   Ryan GoslingEmily BluntAaron Taylor-Johnson   \n",
       "\n",
       "     MetaScore  Duration (minutes)  \n",
       "395       39.0                88.0  \n",
       "396       66.9               116.3  \n",
       "397       67.0               115.0  \n",
       "398       46.0               104.0  \n",
       "399       73.0               126.0  "
      ]
     },
     "execution_count": 4,
     "metadata": {},
     "output_type": "execute_result"
    }
   ],
   "source": [
    "# bottom 5 rows in data\n",
    "dataset.tail()"
   ]
  },
  {
   "cell_type": "code",
   "execution_count": 5,
   "id": "011dcc1c-daad-43e6-b013-52c0f6ed497a",
   "metadata": {},
   "outputs": [
    {
     "name": "stdout",
     "output_type": "stream",
     "text": [
      "<class 'pandas.core.frame.DataFrame'>\n",
      "RangeIndex: 400 entries, 0 to 399\n",
      "Data columns (total 9 columns):\n",
      " #   Column              Non-Null Count  Dtype  \n",
      "---  ------              --------------  -----  \n",
      " 0   Title               400 non-null    object \n",
      " 1   IMDb Rating         400 non-null    float64\n",
      " 2   Year                400 non-null    int64  \n",
      " 3   Certificates        400 non-null    object \n",
      " 4   Genre               400 non-null    object \n",
      " 5   Director            400 non-null    object \n",
      " 6   Star Cast           400 non-null    object \n",
      " 7   MetaScore           400 non-null    float64\n",
      " 8   Duration (minutes)  400 non-null    float64\n",
      "dtypes: float64(3), int64(1), object(5)\n",
      "memory usage: 28.3+ KB\n"
     ]
    }
   ],
   "source": [
    "# more information\n",
    "dataset.info()"
   ]
  },
  {
   "cell_type": "code",
   "execution_count": 6,
   "id": "c7800eef-a36d-4511-9d8c-f328318d0a70",
   "metadata": {},
   "outputs": [
    {
     "data": {
      "text/html": [
       "<div>\n",
       "<style scoped>\n",
       "    .dataframe tbody tr th:only-of-type {\n",
       "        vertical-align: middle;\n",
       "    }\n",
       "\n",
       "    .dataframe tbody tr th {\n",
       "        vertical-align: top;\n",
       "    }\n",
       "\n",
       "    .dataframe thead th {\n",
       "        text-align: right;\n",
       "    }\n",
       "</style>\n",
       "<table border=\"1\" class=\"dataframe\">\n",
       "  <thead>\n",
       "    <tr style=\"text-align: right;\">\n",
       "      <th></th>\n",
       "      <th>Title</th>\n",
       "      <th>IMDb Rating</th>\n",
       "      <th>Year</th>\n",
       "      <th>Certificates</th>\n",
       "      <th>Genre</th>\n",
       "      <th>Director</th>\n",
       "      <th>Star Cast</th>\n",
       "      <th>MetaScore</th>\n",
       "      <th>Duration (minutes)</th>\n",
       "    </tr>\n",
       "  </thead>\n",
       "  <tbody>\n",
       "    <tr>\n",
       "      <th>0</th>\n",
       "      <td>False</td>\n",
       "      <td>False</td>\n",
       "      <td>False</td>\n",
       "      <td>False</td>\n",
       "      <td>False</td>\n",
       "      <td>False</td>\n",
       "      <td>False</td>\n",
       "      <td>False</td>\n",
       "      <td>False</td>\n",
       "    </tr>\n",
       "    <tr>\n",
       "      <th>1</th>\n",
       "      <td>False</td>\n",
       "      <td>False</td>\n",
       "      <td>False</td>\n",
       "      <td>False</td>\n",
       "      <td>False</td>\n",
       "      <td>False</td>\n",
       "      <td>False</td>\n",
       "      <td>False</td>\n",
       "      <td>False</td>\n",
       "    </tr>\n",
       "    <tr>\n",
       "      <th>2</th>\n",
       "      <td>False</td>\n",
       "      <td>False</td>\n",
       "      <td>False</td>\n",
       "      <td>False</td>\n",
       "      <td>False</td>\n",
       "      <td>False</td>\n",
       "      <td>False</td>\n",
       "      <td>False</td>\n",
       "      <td>False</td>\n",
       "    </tr>\n",
       "    <tr>\n",
       "      <th>3</th>\n",
       "      <td>False</td>\n",
       "      <td>False</td>\n",
       "      <td>False</td>\n",
       "      <td>False</td>\n",
       "      <td>False</td>\n",
       "      <td>False</td>\n",
       "      <td>False</td>\n",
       "      <td>False</td>\n",
       "      <td>False</td>\n",
       "    </tr>\n",
       "    <tr>\n",
       "      <th>4</th>\n",
       "      <td>False</td>\n",
       "      <td>False</td>\n",
       "      <td>False</td>\n",
       "      <td>False</td>\n",
       "      <td>False</td>\n",
       "      <td>False</td>\n",
       "      <td>False</td>\n",
       "      <td>False</td>\n",
       "      <td>False</td>\n",
       "    </tr>\n",
       "    <tr>\n",
       "      <th>...</th>\n",
       "      <td>...</td>\n",
       "      <td>...</td>\n",
       "      <td>...</td>\n",
       "      <td>...</td>\n",
       "      <td>...</td>\n",
       "      <td>...</td>\n",
       "      <td>...</td>\n",
       "      <td>...</td>\n",
       "      <td>...</td>\n",
       "    </tr>\n",
       "    <tr>\n",
       "      <th>395</th>\n",
       "      <td>False</td>\n",
       "      <td>False</td>\n",
       "      <td>False</td>\n",
       "      <td>False</td>\n",
       "      <td>False</td>\n",
       "      <td>False</td>\n",
       "      <td>False</td>\n",
       "      <td>False</td>\n",
       "      <td>False</td>\n",
       "    </tr>\n",
       "    <tr>\n",
       "      <th>396</th>\n",
       "      <td>False</td>\n",
       "      <td>False</td>\n",
       "      <td>False</td>\n",
       "      <td>False</td>\n",
       "      <td>False</td>\n",
       "      <td>False</td>\n",
       "      <td>False</td>\n",
       "      <td>False</td>\n",
       "      <td>False</td>\n",
       "    </tr>\n",
       "    <tr>\n",
       "      <th>397</th>\n",
       "      <td>False</td>\n",
       "      <td>False</td>\n",
       "      <td>False</td>\n",
       "      <td>False</td>\n",
       "      <td>False</td>\n",
       "      <td>False</td>\n",
       "      <td>False</td>\n",
       "      <td>False</td>\n",
       "      <td>False</td>\n",
       "    </tr>\n",
       "    <tr>\n",
       "      <th>398</th>\n",
       "      <td>False</td>\n",
       "      <td>False</td>\n",
       "      <td>False</td>\n",
       "      <td>False</td>\n",
       "      <td>False</td>\n",
       "      <td>False</td>\n",
       "      <td>False</td>\n",
       "      <td>False</td>\n",
       "      <td>False</td>\n",
       "    </tr>\n",
       "    <tr>\n",
       "      <th>399</th>\n",
       "      <td>False</td>\n",
       "      <td>False</td>\n",
       "      <td>False</td>\n",
       "      <td>False</td>\n",
       "      <td>False</td>\n",
       "      <td>False</td>\n",
       "      <td>False</td>\n",
       "      <td>False</td>\n",
       "      <td>False</td>\n",
       "    </tr>\n",
       "  </tbody>\n",
       "</table>\n",
       "<p>400 rows × 9 columns</p>\n",
       "</div>"
      ],
      "text/plain": [
       "     Title  IMDb Rating   Year  Certificates  Genre  Director  Star Cast  \\\n",
       "0    False        False  False         False  False     False      False   \n",
       "1    False        False  False         False  False     False      False   \n",
       "2    False        False  False         False  False     False      False   \n",
       "3    False        False  False         False  False     False      False   \n",
       "4    False        False  False         False  False     False      False   \n",
       "..     ...          ...    ...           ...    ...       ...        ...   \n",
       "395  False        False  False         False  False     False      False   \n",
       "396  False        False  False         False  False     False      False   \n",
       "397  False        False  False         False  False     False      False   \n",
       "398  False        False  False         False  False     False      False   \n",
       "399  False        False  False         False  False     False      False   \n",
       "\n",
       "     MetaScore  Duration (minutes)  \n",
       "0        False               False  \n",
       "1        False               False  \n",
       "2        False               False  \n",
       "3        False               False  \n",
       "4        False               False  \n",
       "..         ...                 ...  \n",
       "395      False               False  \n",
       "396      False               False  \n",
       "397      False               False  \n",
       "398      False               False  \n",
       "399      False               False  \n",
       "\n",
       "[400 rows x 9 columns]"
      ]
     },
     "execution_count": 6,
     "metadata": {},
     "output_type": "execute_result"
    }
   ],
   "source": [
    "# null values in data\n",
    "dataset.isna()"
   ]
  },
  {
   "cell_type": "code",
   "execution_count": 7,
   "id": "f447ef69-2796-4948-83cf-4592e3ed8f8c",
   "metadata": {},
   "outputs": [
    {
     "data": {
      "text/plain": [
       "Title                 0\n",
       "IMDb Rating           0\n",
       "Year                  0\n",
       "Certificates          0\n",
       "Genre                 0\n",
       "Director              0\n",
       "Star Cast             0\n",
       "MetaScore             0\n",
       "Duration (minutes)    0\n",
       "dtype: int64"
      ]
     },
     "execution_count": 7,
     "metadata": {},
     "output_type": "execute_result"
    }
   ],
   "source": [
    "dataset.isna().sum()"
   ]
  },
  {
   "cell_type": "code",
   "execution_count": 8,
   "id": "fee45e7a-7841-4f40-80ef-ef946ef3ae47",
   "metadata": {},
   "outputs": [
    {
     "data": {
      "text/plain": [
       "Title                 False\n",
       "IMDb Rating           False\n",
       "Year                  False\n",
       "Certificates          False\n",
       "Genre                 False\n",
       "Director              False\n",
       "Star Cast             False\n",
       "MetaScore             False\n",
       "Duration (minutes)    False\n",
       "dtype: bool"
      ]
     },
     "execution_count": 8,
     "metadata": {},
     "output_type": "execute_result"
    }
   ],
   "source": [
    "dataset.isnull().any()"
   ]
  },
  {
   "cell_type": "code",
   "execution_count": 9,
   "id": "0822a275-9888-4764-baca-c875e5ad138f",
   "metadata": {},
   "outputs": [
    {
     "data": {
      "text/plain": [
       "Index(['Title', 'IMDb Rating', 'Year', 'Certificates', 'Genre', 'Director',\n",
       "       'Star Cast', 'MetaScore', 'Duration (minutes)'],\n",
       "      dtype='object')"
      ]
     },
     "execution_count": 9,
     "metadata": {},
     "output_type": "execute_result"
    }
   ],
   "source": [
    "# columns\n",
    "dataset.columns"
   ]
  },
  {
   "cell_type": "code",
   "execution_count": 10,
   "id": "e0b4dcc2-42d3-4b4c-8d69-4d24be0e1692",
   "metadata": {},
   "outputs": [
    {
     "data": {
      "text/plain": [
       "Index([  0,   1,   2,   3,   4,   5,   6,   7,   8,   9,\n",
       "       ...\n",
       "       390, 391, 392, 393, 394, 395, 396, 397, 398, 399],\n",
       "      dtype='int64', length=400)"
      ]
     },
     "execution_count": 10,
     "metadata": {},
     "output_type": "execute_result"
    }
   ],
   "source": [
    "dataset.index = list(dataset.index)\n",
    "dataset.index"
   ]
  },
  {
   "cell_type": "code",
   "execution_count": 11,
   "id": "38b8e97d-c3fb-421a-8353-e1f9ac13c7ef",
   "metadata": {},
   "outputs": [
    {
     "data": {
      "text/html": [
       "<div>\n",
       "<style scoped>\n",
       "    .dataframe tbody tr th:only-of-type {\n",
       "        vertical-align: middle;\n",
       "    }\n",
       "\n",
       "    .dataframe tbody tr th {\n",
       "        vertical-align: top;\n",
       "    }\n",
       "\n",
       "    .dataframe thead th {\n",
       "        text-align: right;\n",
       "    }\n",
       "</style>\n",
       "<table border=\"1\" class=\"dataframe\">\n",
       "  <thead>\n",
       "    <tr style=\"text-align: right;\">\n",
       "      <th></th>\n",
       "      <th>IMDb Rating</th>\n",
       "      <th>Year</th>\n",
       "      <th>MetaScore</th>\n",
       "      <th>Duration (minutes)</th>\n",
       "    </tr>\n",
       "  </thead>\n",
       "  <tbody>\n",
       "    <tr>\n",
       "      <th>count</th>\n",
       "      <td>400.000000</td>\n",
       "      <td>400.000000</td>\n",
       "      <td>400.000000</td>\n",
       "      <td>400.000000</td>\n",
       "    </tr>\n",
       "    <tr>\n",
       "      <th>mean</th>\n",
       "      <td>7.110250</td>\n",
       "      <td>2015.150000</td>\n",
       "      <td>66.898750</td>\n",
       "      <td>116.334750</td>\n",
       "    </tr>\n",
       "    <tr>\n",
       "      <th>std</th>\n",
       "      <td>0.932251</td>\n",
       "      <td>13.470194</td>\n",
       "      <td>15.312006</td>\n",
       "      <td>21.369757</td>\n",
       "    </tr>\n",
       "    <tr>\n",
       "      <th>min</th>\n",
       "      <td>3.900000</td>\n",
       "      <td>1939.000000</td>\n",
       "      <td>26.000000</td>\n",
       "      <td>80.000000</td>\n",
       "    </tr>\n",
       "    <tr>\n",
       "      <th>25%</th>\n",
       "      <td>6.700000</td>\n",
       "      <td>2010.750000</td>\n",
       "      <td>57.750000</td>\n",
       "      <td>101.000000</td>\n",
       "    </tr>\n",
       "    <tr>\n",
       "      <th>50%</th>\n",
       "      <td>7.100000</td>\n",
       "      <td>2023.000000</td>\n",
       "      <td>66.900000</td>\n",
       "      <td>116.000000</td>\n",
       "    </tr>\n",
       "    <tr>\n",
       "      <th>75%</th>\n",
       "      <td>7.700000</td>\n",
       "      <td>2024.000000</td>\n",
       "      <td>77.000000</td>\n",
       "      <td>124.000000</td>\n",
       "    </tr>\n",
       "    <tr>\n",
       "      <th>max</th>\n",
       "      <td>9.200000</td>\n",
       "      <td>2025.000000</td>\n",
       "      <td>100.000000</td>\n",
       "      <td>206.000000</td>\n",
       "    </tr>\n",
       "  </tbody>\n",
       "</table>\n",
       "</div>"
      ],
      "text/plain": [
       "       IMDb Rating         Year   MetaScore  Duration (minutes)\n",
       "count   400.000000   400.000000  400.000000          400.000000\n",
       "mean      7.110250  2015.150000   66.898750          116.334750\n",
       "std       0.932251    13.470194   15.312006           21.369757\n",
       "min       3.900000  1939.000000   26.000000           80.000000\n",
       "25%       6.700000  2010.750000   57.750000          101.000000\n",
       "50%       7.100000  2023.000000   66.900000          116.000000\n",
       "75%       7.700000  2024.000000   77.000000          124.000000\n",
       "max       9.200000  2025.000000  100.000000          206.000000"
      ]
     },
     "execution_count": 11,
     "metadata": {},
     "output_type": "execute_result"
    }
   ],
   "source": [
    "#describe\n",
    "dataset.describe()"
   ]
  },
  {
   "cell_type": "code",
   "execution_count": 12,
   "id": "2169dce5-9908-4c76-a86b-9120b64d463d",
   "metadata": {},
   "outputs": [
    {
     "data": {
      "text/plain": [
       "Title                  object\n",
       "IMDb Rating           float64\n",
       "Year                    int64\n",
       "Certificates           object\n",
       "Genre                  object\n",
       "Director               object\n",
       "Star Cast              object\n",
       "MetaScore             float64\n",
       "Duration (minutes)    float64\n",
       "dtype: object"
      ]
     },
     "execution_count": 12,
     "metadata": {},
     "output_type": "execute_result"
    }
   ],
   "source": [
    "dataset.dtypes"
   ]
  },
  {
   "cell_type": "code",
   "execution_count": 13,
   "id": "836a1852-42d7-4899-ac0a-0f6ccd9289ee",
   "metadata": {},
   "outputs": [],
   "source": [
    "import matplotlib.pyplot as plt\n",
    "import seaborn as sns"
   ]
  },
  {
   "cell_type": "code",
   "execution_count": 16,
   "id": "e9171415-2058-4fc8-ad7b-a3553a26a896",
   "metadata": {},
   "outputs": [
    {
     "data": {
      "text/html": [
       "<div>\n",
       "<style scoped>\n",
       "    .dataframe tbody tr th:only-of-type {\n",
       "        vertical-align: middle;\n",
       "    }\n",
       "\n",
       "    .dataframe tbody tr th {\n",
       "        vertical-align: top;\n",
       "    }\n",
       "\n",
       "    .dataframe thead th {\n",
       "        text-align: right;\n",
       "    }\n",
       "</style>\n",
       "<table border=\"1\" class=\"dataframe\">\n",
       "  <thead>\n",
       "    <tr style=\"text-align: right;\">\n",
       "      <th></th>\n",
       "      <th>Title</th>\n",
       "      <th>IMDb Rating</th>\n",
       "      <th>Year</th>\n",
       "      <th>Certificates</th>\n",
       "      <th>Genre</th>\n",
       "      <th>Director</th>\n",
       "      <th>Star Cast</th>\n",
       "      <th>MetaScore</th>\n",
       "      <th>Duration (minutes)</th>\n",
       "    </tr>\n",
       "  </thead>\n",
       "  <tbody>\n",
       "    <tr>\n",
       "      <th>0</th>\n",
       "      <td>Gladiator</td>\n",
       "      <td>8.5</td>\n",
       "      <td>2000</td>\n",
       "      <td>R</td>\n",
       "      <td>Action</td>\n",
       "      <td>Ridley Scott</td>\n",
       "      <td>David FranzoniJohn LoganWilliam Nicholson</td>\n",
       "      <td>67.0</td>\n",
       "      <td>155.0</td>\n",
       "    </tr>\n",
       "    <tr>\n",
       "      <th>1</th>\n",
       "      <td>Mission: Impossible - Dead Reckoning Part One</td>\n",
       "      <td>7.7</td>\n",
       "      <td>2023</td>\n",
       "      <td>PG-13</td>\n",
       "      <td>Action</td>\n",
       "      <td>Christopher McQuarrie</td>\n",
       "      <td>Tom CruiseHayley AtwellVing Rhames</td>\n",
       "      <td>81.0</td>\n",
       "      <td>163.0</td>\n",
       "    </tr>\n",
       "    <tr>\n",
       "      <th>2</th>\n",
       "      <td>Rebel Moon - Part Two: The Scargiver</td>\n",
       "      <td>5.2</td>\n",
       "      <td>2024</td>\n",
       "      <td>PG-13</td>\n",
       "      <td>Action</td>\n",
       "      <td>Zack Snyder</td>\n",
       "      <td>Zack SnyderKurt JohnstadShay Hatten</td>\n",
       "      <td>35.0</td>\n",
       "      <td>122.0</td>\n",
       "    </tr>\n",
       "    <tr>\n",
       "      <th>3</th>\n",
       "      <td>Inglourious Basterds</td>\n",
       "      <td>8.4</td>\n",
       "      <td>2009</td>\n",
       "      <td>R</td>\n",
       "      <td>Adventure</td>\n",
       "      <td>Quentin Tarantino</td>\n",
       "      <td>Brad PittDiane KrugerEli Roth</td>\n",
       "      <td>69.0</td>\n",
       "      <td>153.0</td>\n",
       "    </tr>\n",
       "    <tr>\n",
       "      <th>4</th>\n",
       "      <td>Borderlands</td>\n",
       "      <td>7.1</td>\n",
       "      <td>2024</td>\n",
       "      <td>R</td>\n",
       "      <td>Action</td>\n",
       "      <td>Eli Roth</td>\n",
       "      <td>Eli RothJoe Crombie</td>\n",
       "      <td>66.9</td>\n",
       "      <td>116.3</td>\n",
       "    </tr>\n",
       "  </tbody>\n",
       "</table>\n",
       "</div>"
      ],
      "text/plain": [
       "                                           Title  IMDb Rating  Year  \\\n",
       "0                                      Gladiator          8.5  2000   \n",
       "1  Mission: Impossible - Dead Reckoning Part One          7.7  2023   \n",
       "2           Rebel Moon - Part Two: The Scargiver          5.2  2024   \n",
       "3                           Inglourious Basterds          8.4  2009   \n",
       "4                                    Borderlands          7.1  2024   \n",
       "\n",
       "  Certificates      Genre               Director  \\\n",
       "0            R     Action           Ridley Scott   \n",
       "1        PG-13     Action  Christopher McQuarrie   \n",
       "2        PG-13     Action            Zack Snyder   \n",
       "3            R  Adventure      Quentin Tarantino   \n",
       "4            R     Action               Eli Roth   \n",
       "\n",
       "                                   Star Cast  MetaScore  Duration (minutes)  \n",
       "0  David FranzoniJohn LoganWilliam Nicholson       67.0               155.0  \n",
       "1         Tom CruiseHayley AtwellVing Rhames       81.0               163.0  \n",
       "2        Zack SnyderKurt JohnstadShay Hatten       35.0               122.0  \n",
       "3              Brad PittDiane KrugerEli Roth       69.0               153.0  \n",
       "4                        Eli RothJoe Crombie       66.9               116.3  "
      ]
     },
     "execution_count": 16,
     "metadata": {},
     "output_type": "execute_result"
    }
   ],
   "source": [
    "dataset.head()"
   ]
  },
  {
   "cell_type": "code",
   "execution_count": 17,
   "id": "7f5d6fea-8ddb-4d46-950e-729ac5fdd04e",
   "metadata": {},
   "outputs": [
    {
     "data": {
      "text/plain": [
       "<Axes: xlabel='Year', ylabel='MetaScore'>"
      ]
     },
     "execution_count": 17,
     "metadata": {},
     "output_type": "execute_result"
    },
    {
     "data": {
      "image/png": "[encoded data removed]",
      "text/plain": [
       "<Figure size 640x480 with 1 Axes>"
      ]
     },
     "metadata": {},
     "output_type": "display_data"
    }
   ],
   "source": [
    "sns.barplot(data=dataset,x='Year',y='MetaScore')"
   ]
  },
  {
   "cell_type": "code",
   "execution_count": 20,
   "id": "bfd8f228-30c3-49fe-8cf7-7b34aa809fe3",
   "metadata": {},
   "outputs": [
    {
     "data": {
      "text/plain": [
       "<Axes: xlabel='Duration (minutes)', ylabel='IMDb Rating'>"
      ]
     },
     "execution_count": 20,
     "metadata": {},
     "output_type": "execute_result"
    },
    {
     "data": {
      "image/png": "[encoded data removed]",
      "text/plain": [
       "<Figure size 640x480 with 1 Axes>"
      ]
     },
     "metadata": {},
     "output_type": "display_data"
    }
   ],
   "source": [
    "sns.boxplot(y='IMDb Rating', x='Duration (minutes)', data=dataset)"
   ]
  },
  {
   "cell_type": "code",
   "execution_count": 21,
   "id": "25de9ac6-d97f-4cab-a49a-1a0b751b8cd3",
   "metadata": {},
   "outputs": [
    {
     "data": {
      "text/plain": [
       "<Axes: xlabel='IMDb Rating'>"
      ]
     },
     "execution_count": 21,
     "metadata": {},
     "output_type": "execute_result"
    },
    {
     "data": {
      "image/png": "[encoded data removed]",
      "text/plain": [
       "<Figure size 640x480 with 1 Axes>"
      ]
     },
     "metadata": {},
     "output_type": "display_data"
    }
   ],
   "source": [
    "sns.boxplot(x=dataset['IMDb Rating'])"
   ]
  },
  {
   "cell_type": "code",
   "execution_count": 24,
   "id": "a8c51d8e-e116-459f-9e27-b94a6871aaf4",
   "metadata": {},
   "outputs": [
    {
     "name": "stderr",
     "output_type": "stream",
     "text": [
      "C:\\Users\\HP\\anaconda3\\Lib\\site-packages\\seaborn\\_oldcore.py:1119: FutureWarning: use_inf_as_na option is deprecated and will be removed in a future version. Convert inf values to NaN before operating instead.\n",
      "  with pd.option_context('mode.use_inf_as_na', True):\n",
      "C:\\Users\\HP\\anaconda3\\Lib\\site-packages\\seaborn\\_oldcore.py:1119: FutureWarning: use_inf_as_na option is deprecated and will be removed in a future version. Convert inf values to NaN before operating instead.\n",
      "  with pd.option_context('mode.use_inf_as_na', True):\n"
     ]
    },
    {
     "data": {
      "text/plain": [
       "<Axes: xlabel='MetaScore', ylabel='MetaScore'>"
      ]
     },
     "execution_count": 24,
     "metadata": {},
     "output_type": "execute_result"
    },
    {
     "data": {
      "image/png": "[encoded data removed]",
      "text/plain": [
       "<Figure size 640x480 with 1 Axes>"
      ]
     },
     "metadata": {},
     "output_type": "display_data"
    }
   ],
   "source": [
    "sns.lineplot(data=dataset,x='MetaScore',y='MetaScore')"
   ]
  },
  {
   "cell_type": "code",
   "execution_count": 28,
   "id": "4126a189-10c7-46d9-ad2a-3b853119ceff",
   "metadata": {},
   "outputs": [
    {
     "name": "stderr",
     "output_type": "stream",
     "text": [
      "C:\\Users\\HP\\anaconda3\\Lib\\site-packages\\seaborn\\_oldcore.py:1119: FutureWarning: use_inf_as_na option is deprecated and will be removed in a future version. Convert inf values to NaN before operating instead.\n",
      "  with pd.option_context('mode.use_inf_as_na', True):\n",
      "C:\\Users\\HP\\anaconda3\\Lib\\site-packages\\seaborn\\_oldcore.py:1119: FutureWarning: use_inf_as_na option is deprecated and will be removed in a future version. Convert inf values to NaN before operating instead.\n",
      "  with pd.option_context('mode.use_inf_as_na', True):\n"
     ]
    },
    {
     "data": {
      "text/plain": [
       "<Axes: xlabel='Year', ylabel='MetaScore'>"
      ]
     },
     "execution_count": 28,
     "metadata": {},
     "output_type": "execute_result"
    },
    {
     "data": {
      "image/png": "[encoded data removed]",
      "text/plain": [
       "<Figure size 640x480 with 1 Axes>"
      ]
     },
     "metadata": {},
     "output_type": "display_data"
    }
   ],
   "source": [
    "sns.lineplot(data=dataset,x='Year',y='MetaScore')"
   ]
  },
  {
   "cell_type": "code",
   "execution_count": 30,
   "id": "10b9b8b4-28d1-4196-8e4f-b3ffb1c19071",
   "metadata": {},
   "outputs": [
    {
     "name": "stderr",
     "output_type": "stream",
     "text": [
      "C:\\Users\\HP\\anaconda3\\Lib\\site-packages\\seaborn\\_oldcore.py:1119: FutureWarning: use_inf_as_na option is deprecated and will be removed in a future version. Convert inf values to NaN before operating instead.\n",
      "  with pd.option_context('mode.use_inf_as_na', True):\n"
     ]
    },
    {
     "data": {
      "text/plain": [
       "<Axes: xlabel='Year', ylabel='Count'>"
      ]
     },
     "execution_count": 30,
     "metadata": {},
     "output_type": "execute_result"
    },
    {
     "data": {
      "image/png": "[encoded data removed]",
      "text/plain": [
       "<Figure size 640x480 with 1 Axes>"
      ]
     },
     "metadata": {},
     "output_type": "display_data"
    }
   ],
   "source": [
    "sns.histplot(data=dataset,x='Year', kde=True)"
   ]
  },
  {
   "cell_type": "code",
   "execution_count": 31,
   "id": "61eb12fd-68f3-45e9-806d-7e9fa77c233f",
   "metadata": {},
   "outputs": [
    {
     "name": "stderr",
     "output_type": "stream",
     "text": [
      "C:\\Users\\HP\\anaconda3\\Lib\\site-packages\\seaborn\\_oldcore.py:1119: FutureWarning: use_inf_as_na option is deprecated and will be removed in a future version. Convert inf values to NaN before operating instead.\n",
      "  with pd.option_context('mode.use_inf_as_na', True):\n"
     ]
    },
    {
     "data": {
      "text/plain": [
       "<Axes: xlabel='Year', ylabel='Count'>"
      ]
     },
     "execution_count": 31,
     "metadata": {},
     "output_type": "execute_result"
    },
    {
     "data": {
      "image/png": "[encoded data removed]",
      "text/plain": [
       "<Figure size 640x480 with 1 Axes>"
      ]
     },
     "metadata": {},
     "output_type": "display_data"
    }
   ],
   "source": [
    "sns.histplot(data=dataset,x='Year')"
   ]
  },
  {
   "cell_type": "code",
   "execution_count": null,
   "id": "dd418db1-4181-4e89-ad3e-6c3226dd0190",
   "metadata": {},
   "outputs": [],
   "source": []
  }
 ],
 "metadata": {
  "kernelspec": {
   "display_name": "Python 3 (ipykernel)",
   "language": "python",
   "name": "python3"
  },
  "language_info": {
   "codemirror_mode": {
    "name": "ipython",
    "version": 3
   },
   "file_extension": ".py",
   "mimetype": "text/x-python",
   "name": "python",
   "nbconvert_exporter": "python",
   "pygments_lexer": "ipython3",
   "version": "3.11.7"
  }
 },
 "nbformat": 4,
 "nbformat_minor": 5
}
